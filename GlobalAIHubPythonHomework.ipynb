{
 "cells": [
  {
   "cell_type": "code",
   "execution_count": 1,
   "metadata": {},
   "outputs": [
    {
     "name": "stdout",
     "output_type": "stream",
     "text": [
      "please input the first value: 1\n",
      "please input the second value: 2\n",
      "please input the third value: 3\n",
      "please input the fourth value: 4\n",
      "please input the fifth value: 5\n",
      "values are: 1 2 3 4 5\n"
     ]
    }
   ],
   "source": [
    "#kullanıcıdan değerleri alıp yazdıralım\n",
    "\n",
    "value1 = int(input(\"please input the first value: \"))\n",
    "value2 = int(input(\"please input the second value: \"))\n",
    "value3 = int(input(\"please input the third value: \"))\n",
    "value4 = int(input(\"please input the fourth value: \"))\n",
    "value5 = int(input(\"please input the fifth value: \"))\n",
    "print(\"values are:\", value1, value2, value3, value4, value5, sep=\" \")"
   ]
  },
  {
   "cell_type": "code",
   "execution_count": 2,
   "metadata": {},
   "outputs": [
    {
     "name": "stdout",
     "output_type": "stream",
     "text": [
      "first value: 1 second value: 2 third value: 3 fourth value: 4 fifth value: 5\n"
     ]
    }
   ],
   "source": [
    "#format kullanımı\n",
    "print(\"first value: {} second value: {} third value: {} fourth value: {} fifth value: {}\".format(value1, value2, value3, value4, value5))"
   ]
  },
  {
   "cell_type": "code",
   "execution_count": 3,
   "metadata": {},
   "outputs": [
    {
     "name": "stdout",
     "output_type": "stream",
     "text": [
      "first value: 1 second value: 2 third value: 3 fourth value: 4 fifth value: 5\n"
     ]
    }
   ],
   "source": [
    "#f-string kullanımı\n",
    "print(f'first value: {value1} second value: {value2} third value: {value3} fourth value: {value4} fifth value: {value5}')"
   ]
  },
  {
   "cell_type": "code",
   "execution_count": 9,
   "metadata": {},
   "outputs": [
    {
     "name": "stdout",
     "output_type": "stream",
     "text": [
      "Type of value1 is: <class 'int'>\n",
      "Type of value2 is: <class 'int'>\n",
      "Type of value3 is: <class 'int'>\n",
      "Type of value4 is: <class 'int'>\n",
      "Type of value5 is: <class 'int'>\n"
     ]
    }
   ],
   "source": [
    "#girdilerin type larını yazdırma\n",
    "print(f'Type of value1 is: {type(value1)}\\n\\\n",
    "Type of value2 is: {type(value2)}\\n\\\n",
    "Type of value3 is: {type(value3)}\\n\\\n",
    "Type of value4 is: {type(value4)}\\n\\\n",
    "Type of value5 is: {type(value5)}')"
   ]
  },
  {
   "cell_type": "code",
   "execution_count": null,
   "metadata": {},
   "outputs": [],
   "source": []
  }
 ],
 "metadata": {
  "kernelspec": {
   "display_name": "Python 3",
   "language": "python",
   "name": "python3"
  },
  "language_info": {
   "codemirror_mode": {
    "name": "ipython",
    "version": 3
   },
   "file_extension": ".py",
   "mimetype": "text/x-python",
   "name": "python",
   "nbconvert_exporter": "python",
   "pygments_lexer": "ipython3",
   "version": "3.7.4"
  }
 },
 "nbformat": 4,
 "nbformat_minor": 2
}
