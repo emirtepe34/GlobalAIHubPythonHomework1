{
 "cells": [
  {
   "cell_type": "code",
   "execution_count": 4,
   "metadata": {},
   "outputs": [
    {
     "name": "stdout",
     "output_type": "stream",
     "text": [
      "isim giriniz :g\n",
      "hos geldin g\n",
      "bir harf tahmini yapın ya da kelimeyi tahmin edin: g\n",
      "g yanlış tahmin\n",
      "bir harf tahmini yapın ya da kelimeyi tahmin edin: a\n",
      "a yanlış tahmin\n",
      "bir harf tahmini yapın ya da kelimeyi tahmin edin: e\n",
      "e dogru tahmin\n",
      "bir harf tahmini yapın ya da kelimeyi tahmin edin: d\n",
      "d yanlış tahmin\n",
      "bir harf tahmini yapın ya da kelimeyi tahmin edin: l\n",
      "l yanlış tahmin\n",
      "bir harf tahmini yapın ya da kelimeyi tahmin edin: n\n",
      "n dogru tahmin\n",
      "bir harf tahmini yapın ya da kelimeyi tahmin edin: neural\n",
      "yanlış tahmin\n",
      "bir harf tahmini yapın ya da kelimeyi tahmin edin: network\n",
      "Tebrikler. Kelime : network\n",
      "oyun sona erdi\n"
     ]
    }
   ],
   "source": [
    "import random\n",
    "\n",
    "kelimeler = [\"global\",\"artificial\",\"intelligence\",\"machine\",\"learning\",\"data\",\"science\",\"deep\",\"neural\",\"network\"]\n",
    "\n",
    "index = random.randint(0,len(kelimeler)-1)\n",
    "\n",
    "kelime = kelimeler[index]\n",
    "\n",
    "isim = input(\"isim giriniz :\")\n",
    "print(\"hos geldin \" + isim)\n",
    "\n",
    "yanlıslar,dogrular =0,0\n",
    "\n",
    "harf =\"\"\n",
    "kelimeTahmin=\"\"\n",
    "\n",
    "while(yanlıslar < 6 ):\n",
    "    tahmin = input(\"bir harf tahmini yapın ya da kelimeyi tahmin edin: \")\n",
    "    \n",
    "    if len(tahmin) > 1:\n",
    "        \n",
    "        kelimeTahmin = tahmin.lower()\n",
    "        if kelimeTahmin == kelime:\n",
    "            print(\"Tebrikler. Kelime : \" + kelime)\n",
    "            break\n",
    "        else:\n",
    "            print(\"yanlış tahmin\")\n",
    "\n",
    "            continue\n",
    "    else: \n",
    "        harf = tahmin.lower()\n",
    "\n",
    "    if harf in kelime:\n",
    "        print(harf + \" dogru tahmin\")\n",
    "        dogrular+=1\n",
    "    else:\n",
    "        print(harf + \" yanlış tahmin\")\n",
    "        yanlıslar+=1\n",
    "        \n",
    "        \n",
    "    if dogrular == len(kelime):\n",
    "        \n",
    "        print(\"kelime : \" + kelime)\n",
    "        break\n",
    "\n",
    "print(\"oyun sona erdi\")"
   ]
  },
  {
   "cell_type": "code",
   "execution_count": null,
   "metadata": {},
   "outputs": [],
   "source": []
  }
 ],
 "metadata": {
  "kernelspec": {
   "display_name": "Python 3",
   "language": "python",
   "name": "python3"
  },
  "language_info": {
   "codemirror_mode": {
    "name": "ipython",
    "version": 3
   },
   "file_extension": ".py",
   "mimetype": "text/x-python",
   "name": "python",
   "nbconvert_exporter": "python",
   "pygments_lexer": "ipython3",
   "version": "3.7.4"
  }
 },
 "nbformat": 4,
 "nbformat_minor": 2
}
