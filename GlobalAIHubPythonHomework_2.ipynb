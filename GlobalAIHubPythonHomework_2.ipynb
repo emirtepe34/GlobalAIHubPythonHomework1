{
 "cells": [
  {
   "cell_type": "code",
   "execution_count": 11,
   "metadata": {},
   "outputs": [
    {
     "name": "stdout",
     "output_type": "stream",
     "text": [
      "enter your first name: emir\n",
      "enter your last name: tepe\n",
      "enter your age: 23\n",
      "enter your year of birth: 1997\n"
     ]
    }
   ],
   "source": [
    "first_name  = input(\"enter your first name: \")\n",
    "last_name   = input(\"enter your last name: \")\n",
    "your_age    = int(input(\"enter your age: \"))\n",
    "date_birth  = int(input(\"enter your year of birth: \"))\n"
   ]
  },
  {
   "cell_type": "code",
   "execution_count": 12,
   "metadata": {},
   "outputs": [
    {
     "name": "stdout",
     "output_type": "stream",
     "text": [
      "emir\n",
      "tepe\n",
      "23\n",
      "1997\n"
     ]
    }
   ],
   "source": [
    "person_list = [first_name,last_name,your_age,date_birth]\n",
    "\n",
    "for i in person_list:\n",
    "    print(i)  "
   ]
  },
  {
   "cell_type": "code",
   "execution_count": 13,
   "metadata": {},
   "outputs": [
    {
     "name": "stdout",
     "output_type": "stream",
     "text": [
      "You can go out to the street\n"
     ]
    }
   ],
   "source": [
    "if your_age < 18:\n",
    "            print(\"You can't go out because it's too dangerous\")\n",
    "    \n",
    "else:\n",
    "            print(\"You can go out to the street\")"
   ]
  },
  {
   "cell_type": "code",
   "execution_count": null,
   "metadata": {},
   "outputs": [],
   "source": []
  }
 ],
 "metadata": {
  "kernelspec": {
   "display_name": "Python 3",
   "language": "python",
   "name": "python3"
  },
  "language_info": {
   "codemirror_mode": {
    "name": "ipython",
    "version": 3
   },
   "file_extension": ".py",
   "mimetype": "text/x-python",
   "name": "python",
   "nbconvert_exporter": "python",
   "pygments_lexer": "ipython3",
   "version": "3.7.4"
  }
 },
 "nbformat": 4,
 "nbformat_minor": 2
}
